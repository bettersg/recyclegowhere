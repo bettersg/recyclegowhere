{
 "cells": [
  {
   "cell_type": "code",
   "execution_count": 1,
   "id": "a0d59d4d",
   "metadata": {},
   "outputs": [],
   "source": [
    "import json\n",
    "import pandas as pd\n",
    "import matplotlib.pyplot as plt\n",
    "import itertools\n",
    "import numpy as np"
   ]
  },
  {
   "cell_type": "code",
   "execution_count": 2,
   "id": "d8b219de",
   "metadata": {},
   "outputs": [],
   "source": [
    "with open('data.json', 'r', encoding = 'utf-8') as f:\n",
    "    data = json.load(f)\n",
    "    f.close()"
   ]
  },
  {
   "cell_type": "code",
   "execution_count": 3,
   "id": "4c994cac",
   "metadata": {},
   "outputs": [],
   "source": [
    "nodes = pd.DataFrame(data['nodes']).set_index('id')\n",
    "ways = pd.DataFrame(data['ways']).set_index('id')\n",
    "relations = pd.DataFrame(data['relations']).set_index('id')"
   ]
  },
  {
   "cell_type": "code",
   "execution_count": 4,
   "id": "3a46f0ef",
   "metadata": {},
   "outputs": [
    {
     "data": {
      "text/plain": [
       "[{'ref': '803437153', 'role': 'house', 'type': 'way'},\n",
       " {'ref': '455116744', 'role': 'house', 'type': 'way'},\n",
       " {'ref': '455116661', 'role': 'house', 'type': 'way'},\n",
       " {'ref': '455116714', 'role': 'house', 'type': 'way'},\n",
       " {'ref': '455116458', 'role': 'house', 'type': 'way'},\n",
       " {'ref': '41566022', 'role': 'street', 'type': 'way'},\n",
       " {'ref': '41566023', 'role': 'street', 'type': 'way'},\n",
       " {'ref': '465523912', 'role': 'street', 'type': 'way'}]"
      ]
     },
     "execution_count": 4,
     "metadata": {},
     "output_type": "execute_result"
    }
   ],
   "source": [
    "#obtain public transport routes\n",
    "#relations are lists of ref, role and type (way/node)\n",
    "relations.members.iloc[1]"
   ]
  },
  {
   "cell_type": "code",
   "execution_count": 5,
   "id": "7902ace2",
   "metadata": {},
   "outputs": [
    {
     "data": {
      "text/plain": [
       "{'name': 'Foo Kim Lin Road', 'type': 'associatedStreet'}"
      ]
     },
     "execution_count": 5,
     "metadata": {},
     "output_type": "execute_result"
    }
   ],
   "source": [
    "relations.tags.iloc[1]"
   ]
  },
  {
   "cell_type": "code",
   "execution_count": 6,
   "id": "b91edf5e",
   "metadata": {},
   "outputs": [
    {
     "data": {
      "text/plain": [
       "{'highway': 'residential',\n",
       " 'lanes': '1',\n",
       " 'maxspeed': '40',\n",
       " 'name': 'Foo Kim Lin Road',\n",
       " 'oneway': 'yes',\n",
       " 'surface': 'asphalt',\n",
       " 'turn:lanes': 'left'}"
      ]
     },
     "execution_count": 6,
     "metadata": {},
     "output_type": "execute_result"
    }
   ],
   "source": [
    "ways.tags.loc['465523912']"
   ]
  },
  {
   "cell_type": "code",
   "execution_count": 7,
   "id": "3430e6f9",
   "metadata": {},
   "outputs": [
    {
     "data": {
      "text/plain": [
       "['509905060', '8276671030', '509905062']"
      ]
     },
     "execution_count": 7,
     "metadata": {},
     "output_type": "execute_result"
    }
   ],
   "source": [
    "ways.nodeRefs.loc['465523912']"
   ]
  },
  {
   "cell_type": "code",
   "execution_count": 8,
   "id": "10e2a893",
   "metadata": {},
   "outputs": [
    {
     "data": {
      "text/html": [
       "<div>\n",
       "<style scoped>\n",
       "    .dataframe tbody tr th:only-of-type {\n",
       "        vertical-align: middle;\n",
       "    }\n",
       "\n",
       "    .dataframe tbody tr th {\n",
       "        vertical-align: top;\n",
       "    }\n",
       "\n",
       "    .dataframe thead th {\n",
       "        text-align: right;\n",
       "    }\n",
       "</style>\n",
       "<table border=\"1\" class=\"dataframe\">\n",
       "  <thead>\n",
       "    <tr style=\"text-align: right;\">\n",
       "      <th></th>\n",
       "      <th>ref</th>\n",
       "      <th>role</th>\n",
       "      <th>type</th>\n",
       "      <th>memberOf</th>\n",
       "    </tr>\n",
       "  </thead>\n",
       "  <tbody>\n",
       "    <tr>\n",
       "      <th>0</th>\n",
       "      <td>547132201</td>\n",
       "      <td>route</td>\n",
       "      <td>way</td>\n",
       "      <td>272117</td>\n",
       "    </tr>\n",
       "    <tr>\n",
       "      <th>1</th>\n",
       "      <td>547132201</td>\n",
       "      <td>route</td>\n",
       "      <td>way</td>\n",
       "      <td>272117</td>\n",
       "    </tr>\n",
       "    <tr>\n",
       "      <th>2</th>\n",
       "      <td>160608026</td>\n",
       "      <td>route</td>\n",
       "      <td>way</td>\n",
       "      <td>272117</td>\n",
       "    </tr>\n",
       "    <tr>\n",
       "      <th>3</th>\n",
       "      <td>160608025</td>\n",
       "      <td>route</td>\n",
       "      <td>way</td>\n",
       "      <td>272117</td>\n",
       "    </tr>\n",
       "    <tr>\n",
       "      <th>4</th>\n",
       "      <td>41425649</td>\n",
       "      <td>route</td>\n",
       "      <td>way</td>\n",
       "      <td>272117</td>\n",
       "    </tr>\n",
       "  </tbody>\n",
       "</table>\n",
       "</div>"
      ],
      "text/plain": [
       "         ref   role type memberOf\n",
       "0  547132201  route  way   272117\n",
       "1  547132201  route  way   272117\n",
       "2  160608026  route  way   272117\n",
       "3  160608025  route  way   272117\n",
       "4   41425649  route  way   272117"
      ]
     },
     "execution_count": 8,
     "metadata": {},
     "output_type": "execute_result"
    }
   ],
   "source": [
    "idx = relations.members.explode().index\n",
    "relation_members = pd.DataFrame(relations.members.explode().tolist())\n",
    "relation_members['memberOf'] = idx\n",
    "relation_members.head()"
   ]
  },
  {
   "cell_type": "code",
   "execution_count": 9,
   "id": "404889da",
   "metadata": {},
   "outputs": [
    {
     "data": {
      "text/plain": [
       "array(['route', '', 'house', 'street', 'backward', 'forward', 'pitlane',\n",
       "       'stop', 'stop_inactive', 'admin_centre', 'label', 'outer',\n",
       "       'platform_entry_only', 'platform_exit_only', 'stop_exit_only',\n",
       "       'stop_entry_only', 'terminal', 'inner', 'via', 'from', 'to',\n",
       "       'inactive', 'subarea', 'platform', 'address', 'backward:stop',\n",
       "       'forward:stop', 'ß', 'Wine Bar', 'Rail Corridor', 'part',\n",
       "       'outline', 'tomb', 'entrance', 'station', 'device', 'From',\n",
       "       'subway entrance', 'perimeter', 'buildings', 'force', 'via ',\n",
       "       'from ', 'contains', 'lta', 'member_state', 'across', 'owner'],\n",
       "      dtype=object)"
      ]
     },
     "execution_count": 9,
     "metadata": {},
     "output_type": "execute_result"
    }
   ],
   "source": [
    "relation_members = relation_members.drop_duplicates().reset_index(drop=True)\n",
    "unique_roles = relation_members.role.unique()\n",
    "unique_roles"
   ]
  },
  {
   "cell_type": "code",
   "execution_count": 10,
   "id": "1082b7a6",
   "metadata": {},
   "outputs": [],
   "source": [
    "COLOR_LABEL = unique_roles\n",
    "cmap = plt.cm.prism\n",
    "# extract all colors from the .jet map\n",
    "cmaplist = [cmap(i) for i in range(cmap.N)]\n",
    "# create the new map\n",
    "N = len(unique_roles)\n"
   ]
  },
  {
   "cell_type": "code",
   "execution_count": 11,
   "id": "dbb7a0c9",
   "metadata": {},
   "outputs": [],
   "source": [
    "colors = [cmaplist[int(i*len(cmaplist)/N)] for i in range(N)]"
   ]
  },
  {
   "cell_type": "code",
   "execution_count": 12,
   "id": "d61803c2",
   "metadata": {},
   "outputs": [],
   "source": [
    "color_dict = dict(zip(unique_roles, colors))\n"
   ]
  },
  {
   "cell_type": "code",
   "execution_count": 13,
   "id": "f193d348",
   "metadata": {},
   "outputs": [
    {
     "name": "stdout",
     "output_type": "stream",
     "text": [
      "{''} {'stop'}\n"
     ]
    },
    {
     "data": {
      "image/png": "[encoded data removed]",
      "text/plain": [
       "<Figure size 432x288 with 1 Axes>"
      ]
     },
     "metadata": {
      "needs_background": "light"
     },
     "output_type": "display_data"
    }
   ],
   "source": [
    "def visualise_relations(r_member):\n",
    "    \n",
    "    ls2 = {'way': [], 'landmark': []}\n",
    "    for i, member in enumerate(r_member):\n",
    "        if member['type'] == 'way':\n",
    "            ls = []\n",
    "            wayref = ways.loc[member['ref']]\n",
    "            for j, node in enumerate(wayref['nodeRefs']):\n",
    "                n = nodes.loc[node]\n",
    "                ls.append((n['lon'], n['lat']))\n",
    "            ls2['way'].append([np.array(ls), member['role']])\n",
    "        elif member['type'] == 'node':\n",
    "            noderef = nodes.loc[member['ref']]\n",
    "            ls2['landmark'].append([(noderef['lon'], noderef['lat']), member['role']])\n",
    "    \n",
    "    return ls2\n",
    "\n",
    "def create_plot(ls2, fig = None, ax = None):\n",
    "    ways, nodes = ls2.values()\n",
    "    label_ways = list(map(lambda x: x[1], ways))\n",
    "    label_nodes = list(map(lambda x: x[1], nodes))\n",
    "    print(set(label_ways), set(label_nodes))\n",
    "    ways = list(map(lambda x: x[0], ways))\n",
    "    nodes = list(map(lambda x: x[0], nodes))\n",
    "    \n",
    "    ways, nodes = np.array(ways), np.array(nodes)\n",
    "    if ax is None or fig is None:\n",
    "        fig, ax = plt.subplots()\n",
    "    for item, label in zip(ways, label_ways):\n",
    "        ax.plot(item[:,0], item[:, 1], markersize=5, marker = ',', color = color_dict[label])\n",
    "    for coord, label in zip(nodes, label_nodes):\n",
    "        ax.plot(coord[0], coord[1], markersize=5, marker = 'o', color = color_dict[label])\n",
    "        \n",
    "    return fig, ax\n",
    "        \n",
    "test = visualise_relations(relations.members.iloc[16])\n",
    "fig, ax = create_plot(test)\n",
    "plt.show()"
   ]
  },
  {
   "cell_type": "code",
   "execution_count": 14,
   "id": "c2cb52a7",
   "metadata": {},
   "outputs": [
    {
     "name": "stdout",
     "output_type": "stream",
     "text": [
      "{''} {'stop'}\n"
     ]
    },
    {
     "data": {
      "text/plain": [
       "(<Figure size 432x288 with 1 Axes>, <AxesSubplot:>)"
      ]
     },
     "execution_count": 14,
     "metadata": {},
     "output_type": "execute_result"
    },
    {
     "data": {
      "image/png": "[encoded data removed]",
      "text/plain": [
       "<Figure size 432x288 with 1 Axes>"
      ]
     },
     "metadata": {
      "needs_background": "light"
     },
     "output_type": "display_data"
    }
   ],
   "source": [
    "loop = visualise_relations(relations.members.iloc[161])\n",
    "create_plot(loop)"
   ]
  },
  {
   "cell_type": "code",
   "execution_count": 303,
   "id": "c2cdb500",
   "metadata": {},
   "outputs": [
    {
     "name": "stdout",
     "output_type": "stream",
     "text": [
      "{'house', 'street'} set()\n",
      "{'house', 'street'} set()\n",
      "{'house', 'street'} set()\n",
      "{'house', 'street'} set()\n",
      "{'house', 'street'} set()\n",
      "{'street'} set()\n",
      "{'house', 'street'} set()\n",
      "{'house', 'street'} set()\n",
      "{'', 'pitlane', 'backward', 'forward'} set()\n",
      "{''} {'stop'}\n",
      "{''} {'stop', 'stop_inactive'}\n",
      "{'outer'} {'label', 'admin_centre'}\n",
      "{''} {'stop'}\n",
      "{''} {'stop'}\n",
      "{''} {'stop'}\n"
     ]
    },
    {
     "data": {
      "image/png": "[encoded data removed]",
      "text/plain": [
       "<Figure size 432x288 with 1 Axes>"
      ]
     },
     "metadata": {
      "needs_background": "light"
     },
     "output_type": "display_data"
    }
   ],
   "source": [
    "fig, ax = plt.subplots()\n",
    "for i in range(1,16):\n",
    "    a = visualise_relations(relations.members.iloc[i])\n",
    "    fig, ax = create_plot(a, fig, ax)\n",
    "plt.show()"
   ]
  },
  {
   "cell_type": "code",
   "execution_count": 304,
   "id": "ae3c4cc2",
   "metadata": {},
   "outputs": [],
   "source": [
    "relation_members.role[relation_members.role == 'from '] = 'from'"
   ]
  },
  {
   "cell_type": "code",
   "execution_count": 305,
   "id": "bc778155",
   "metadata": {},
   "outputs": [],
   "source": [
    "relation_members.role[relation_members.role == 'via '] = 'via'"
   ]
  },
  {
   "cell_type": "code",
   "execution_count": 306,
   "id": "679b24ca",
   "metadata": {},
   "outputs": [],
   "source": [
    "relation_members.role[relation_members.role == 'From'] = 'from'"
   ]
  },
  {
   "cell_type": "code",
   "execution_count": 307,
   "id": "0b8e0911",
   "metadata": {},
   "outputs": [],
   "source": [
    "relation_members = relation_members[~relation_members.role.isin(['owner','member_state','inactive','stop_inactive','subarea'])]"
   ]
  },
  {
   "cell_type": "code",
   "execution_count": 256,
   "id": "79a8f871",
   "metadata": {},
   "outputs": [
    {
     "name": "stderr",
     "output_type": "stream",
     "text": [
      "C:\\Users\\ngzhe\\anaconda2020\\lib\\site-packages\\pandas\\core\\series.py:992: SettingWithCopyWarning: \n",
      "A value is trying to be set on a copy of a slice from a DataFrame\n",
      "\n",
      "See the caveats in the documentation: https://pandas.pydata.org/pandas-docs/stable/user_guide/indexing.html#returning-a-view-versus-a-copy\n",
      "  self._where(~key, value, inplace=True)\n"
     ]
    }
   ],
   "source": [
    "relation_members.role[relation_members.role == 'perimeter'] = 'outer'\n",
    "relation_members.role[relation_members.role == 'subway entrance'] = 'outline'\n",
    "#relation_members.role[relation_members.role == 'entrance'] = 'outline'\n",
    "relation_members.role[relation_members.role == 'buildings'] = 'outline'"
   ]
  },
  {
   "cell_type": "code",
   "execution_count": 280,
   "id": "48656557",
   "metadata": {},
   "outputs": [
    {
     "name": "stderr",
     "output_type": "stream",
     "text": [
      "C:\\Users\\ngzhe\\anaconda2020\\lib\\site-packages\\pandas\\core\\series.py:992: SettingWithCopyWarning: \n",
      "A value is trying to be set on a copy of a slice from a DataFrame\n",
      "\n",
      "See the caveats in the documentation: https://pandas.pydata.org/pandas-docs/stable/user_guide/indexing.html#returning-a-view-versus-a-copy\n",
      "  self._where(~key, value, inplace=True)\n"
     ]
    }
   ],
   "source": [
    "relation_members.role[relation_members.role == 'address'] = 'street'"
   ]
  },
  {
   "cell_type": "code",
   "execution_count": 281,
   "id": "374597b3",
   "metadata": {},
   "outputs": [
    {
     "data": {
      "text/plain": [
       "array(['route', '', 'house', 'street', 'backward', 'forward', 'pitlane',\n",
       "       'stop', 'admin_centre', 'label', 'outer', 'platform_entry_only',\n",
       "       'platform_exit_only', 'stop_exit_only', 'stop_entry_only',\n",
       "       'terminal', 'inner', 'via', 'from', 'to', 'platform',\n",
       "       'backward:stop', 'forward:stop', 'ß', 'Wine Bar', 'Rail Corridor',\n",
       "       'part', 'outline', 'tomb', 'station', 'device', 'force',\n",
       "       'contains', 'lta', 'across'], dtype=object)"
      ]
     },
     "execution_count": 281,
     "metadata": {},
     "output_type": "execute_result"
    }
   ],
   "source": [
    "relation_members.role.unique()"
   ]
  },
  {
   "cell_type": "code",
   "execution_count": 104,
   "id": "ecd81775",
   "metadata": {},
   "outputs": [
    {
     "data": {
      "text/plain": [
       "array(['route', '', 'house', 'street', 'backward', 'forward', 'pitlane',\n",
       "       'stop', 'stop_inactive', 'admin_centre', 'label', 'outer',\n",
       "       'platform_entry_only', 'platform_exit_only', 'stop_exit_only',\n",
       "       'stop_entry_only', 'terminal', 'inner', 'via', 'from', 'to',\n",
       "       'inactive', 'subarea', 'platform', 'address', 'backward:stop',\n",
       "       'forward:stop', 'ß', 'Wine Bar', 'Rail Corridor', 'part',\n",
       "       'outline', 'tomb', 'entrance', 'station', 'device', 'From',\n",
       "       'subway entrance', 'perimeter', 'buildings', 'force', 'via ',\n",
       "       'from ', 'contains', 'lta', 'member_state', 'across', 'owner'],\n",
       "      dtype=object)"
      ]
     },
     "execution_count": 104,
     "metadata": {},
     "output_type": "execute_result"
    }
   ],
   "source": [
    "unique_roles"
   ]
  },
  {
   "cell_type": "code",
   "execution_count": 333,
   "id": "031350c7",
   "metadata": {},
   "outputs": [
    {
     "data": {
      "text/plain": [
       "                       202421\n",
       "via                    109341\n",
       "to                     109109\n",
       "from                   109100\n",
       "stop                    25942\n",
       "house                   10219\n",
       "outer                    4557\n",
       "street                   3093\n",
       "inner                    2266\n",
       "forward                  1396\n",
       "backward                 1208\n",
       "part                      888\n",
       "device                    406\n",
       "outline                   181\n",
       "platform                   86\n",
       "route                      41\n",
       "forward:stop               39\n",
       "platform_entry_only        21\n",
       "platform_exit_only         21\n",
       "backward:stop              15\n",
       "across                      5\n",
       "station                     4\n",
       "entrance                    4\n",
       "pitlane                     3\n",
       "ß                           3\n",
       "tomb                        3\n",
       "lta                         3\n",
       "Rail Corridor               2\n",
       "label                       2\n",
       "stop_entry_only             2\n",
       "contains                    2\n",
       "address                     2\n",
       "subway entrance             1\n",
       "buildings                   1\n",
       "perimeter                   1\n",
       "terminal                    1\n",
       "admin_centre                1\n",
       "Wine Bar                    1\n",
       "stop_exit_only              1\n",
       "force                       1\n",
       "Name: role, dtype: int64"
      ]
     },
     "execution_count": 333,
     "metadata": {},
     "output_type": "execute_result"
    }
   ],
   "source": [
    "#filter out not needed roles\n",
    "#owner\n",
    "#member_state\n",
    "#From and from  change to from\n",
    "#via  change to via\n",
    "#ß (bus) change to ?\n",
    "#take out inactive and stop_inactive as it does not exist yet\n",
    "#perimeter and buildings are together and under outline\n",
    "#subway entrance not in main\n",
    "#remove subarea\n",
    "#pitlane is the F1 one, under 421263. consist of forward and backward\n",
    "\n",
    "\"\"\"\n",
    "(Main Relations)\n",
    "Buildings:\n",
    "- street contains some buildings and roads\n",
    "\n",
    "Transport:\n",
    "1) Road\n",
    "    a) Car\n",
    "    b) Bus\n",
    "        - via\n",
    "        - terminal\n",
    "2) MRT/LRT\n",
    "    - stop\n",
    "    \n",
    "    - \n",
    "3) Walk\n",
    "\"\"\"\n",
    "\n",
    "relation_members.role.value_counts()"
   ]
  },
  {
   "cell_type": "code",
   "execution_count": 420,
   "id": "9f1ac485",
   "metadata": {},
   "outputs": [
    {
     "data": {
      "text/html": [
       "<div>\n",
       "<style scoped>\n",
       "    .dataframe tbody tr th:only-of-type {\n",
       "        vertical-align: middle;\n",
       "    }\n",
       "\n",
       "    .dataframe tbody tr th {\n",
       "        vertical-align: top;\n",
       "    }\n",
       "\n",
       "    .dataframe thead th {\n",
       "        text-align: right;\n",
       "    }\n",
       "</style>\n",
       "<table border=\"1\" class=\"dataframe\">\n",
       "  <thead>\n",
       "    <tr style=\"text-align: right;\">\n",
       "      <th></th>\n",
       "      <th>ref</th>\n",
       "      <th>role</th>\n",
       "      <th>type</th>\n",
       "      <th>memberOf</th>\n",
       "    </tr>\n",
       "  </thead>\n",
       "  <tbody>\n",
       "    <tr>\n",
       "      <th>65830</th>\n",
       "      <td>5413582007</td>\n",
       "      <td>terminal</td>\n",
       "      <td>node</td>\n",
       "      <td>1156117</td>\n",
       "    </tr>\n",
       "  </tbody>\n",
       "</table>\n",
       "</div>"
      ],
      "text/plain": [
       "              ref      role  type memberOf\n",
       "65830  5413582007  terminal  node  1156117"
      ]
     },
     "execution_count": 420,
     "metadata": {},
     "output_type": "execute_result"
    }
   ],
   "source": [
    "#forward:stop has 4 routes\n",
    "relation_members[relation_members.role == 'terminal'].tail(50)"
   ]
  },
  {
   "cell_type": "code",
   "execution_count": 510,
   "id": "a94af4cf",
   "metadata": {},
   "outputs": [
    {
     "name": "stdout",
     "output_type": "stream",
     "text": [
      "{'', 'perimeter'} set()\n"
     ]
    },
    {
     "data": {
      "image/png": "[encoded data removed]",
      "text/plain": [
       "<Figure size 432x288 with 1 Axes>"
      ]
     },
     "metadata": {
      "needs_background": "light"
     },
     "output_type": "display_data"
    }
   ],
   "source": [
    "#subway entrance and station\n",
    "fig, ax = plt.subplots()\n",
    "stations = relation_members[relation_members.role == 'perimeter']\n",
    "uniques = stations.memberOf.unique()\n",
    "for i in range(len(uniques)):\n",
    "    station = visualise_relations(relations.members.loc[uniques[i]])\n",
    "    fig, ax = create_plot(station, fig, ax)\n",
    "plt.show()\n",
    "#most streets not labelled"
   ]
  },
  {
   "cell_type": "code",
   "execution_count": 419,
   "id": "9124056b",
   "metadata": {},
   "outputs": [
    {
     "name": "stdout",
     "output_type": "stream",
     "text": [
      "{''} {'stop'}\n"
     ]
    },
    {
     "data": {
      "text/plain": [
       "(<Figure size 432x288 with 1 Axes>, <AxesSubplot:>)"
      ]
     },
     "execution_count": 419,
     "metadata": {},
     "output_type": "execute_result"
    },
    {
     "data": {
      "image/png": "[encoded data removed]",
      "text/plain": [
       "<Figure size 432x288 with 1 Axes>"
      ]
     },
     "metadata": {
      "needs_background": "light"
     },
     "output_type": "display_data"
    }
   ],
   "source": [
    "rail_corridor = visualise_relations(relations.members.loc['14165147'])\n",
    "\n",
    "create_plot(rail_corridor)"
   ]
  },
  {
   "cell_type": "code",
   "execution_count": 14,
   "id": "c570cc43",
   "metadata": {},
   "outputs": [
    {
     "data": {
      "text/html": [
       "<div>\n",
       "<style scoped>\n",
       "    .dataframe tbody tr th:only-of-type {\n",
       "        vertical-align: middle;\n",
       "    }\n",
       "\n",
       "    .dataframe tbody tr th {\n",
       "        vertical-align: top;\n",
       "    }\n",
       "\n",
       "    .dataframe thead th {\n",
       "        text-align: right;\n",
       "    }\n",
       "</style>\n",
       "<table border=\"1\" class=\"dataframe\">\n",
       "  <thead>\n",
       "    <tr style=\"text-align: right;\">\n",
       "      <th></th>\n",
       "      <th>ref</th>\n",
       "      <th>role</th>\n",
       "      <th>type</th>\n",
       "      <th>memberOf</th>\n",
       "    </tr>\n",
       "  </thead>\n",
       "  <tbody>\n",
       "    <tr>\n",
       "      <th>128106</th>\n",
       "      <td>22561114</td>\n",
       "      <td>Rail Corridor</td>\n",
       "      <td>way</td>\n",
       "      <td>3871697</td>\n",
       "    </tr>\n",
       "    <tr>\n",
       "      <th>128107</th>\n",
       "      <td>760898053</td>\n",
       "      <td>Rail Corridor</td>\n",
       "      <td>way</td>\n",
       "      <td>3871697</td>\n",
       "    </tr>\n",
       "  </tbody>\n",
       "</table>\n",
       "</div>"
      ],
      "text/plain": [
       "              ref           role type memberOf\n",
       "128106   22561114  Rail Corridor  way  3871697\n",
       "128107  760898053  Rail Corridor  way  3871697"
      ]
     },
     "execution_count": 14,
     "metadata": {},
     "output_type": "execute_result"
    }
   ],
   "source": [
    "#picture rail corridor\n",
    "relation_members[relation_members.role.isin(['Rail Corridor'])]"
   ]
  },
  {
   "cell_type": "code",
   "execution_count": 417,
   "id": "c23d5bcd",
   "metadata": {},
   "outputs": [
    {
     "name": "stdout",
     "output_type": "stream",
     "text": [
      "{'', 'Rail Corridor'} set()\n"
     ]
    },
    {
     "data": {
      "text/plain": [
       "(<Figure size 432x288 with 1 Axes>, <AxesSubplot:>)"
      ]
     },
     "execution_count": 417,
     "metadata": {},
     "output_type": "execute_result"
    },
    {
     "data": {
      "image/png": "[encoded data removed]",
      "text/plain": [
       "<Figure size 432x288 with 1 Axes>"
      ]
     },
     "metadata": {
      "needs_background": "light"
     },
     "output_type": "display_data"
    }
   ],
   "source": [
    "rail_corridor = visualise_relations(relations.members.loc['3871697'])\n",
    "create_plot(rail_corridor)"
   ]
  },
  {
   "cell_type": "code",
   "execution_count": 430,
   "id": "8864ef32",
   "metadata": {},
   "outputs": [],
   "source": [
    "def get_routes(relation, kind = 'bus'):\n",
    "    ls2 = []\n",
    "    for i,r in relation.iterrows():\n",
    "        if 'route' in r['tags'].keys():\n",
    "            if 'network' in r['tags'].keys():\n",
    "                if r['tags']['route'] == kind and r['tags']['network'] in ['Singapore Rail',\n",
    "                                                                           'Land Transport Authority',\n",
    "                                                                          'Circle Line (CCL)/Downtown Line (DTL)',\n",
    "                                                                           'Downtown Line (DTL)',\n",
    "                                                                           'East West Line (EWL)/North East Line (NEL)',\n",
    "                                                                          'MRT',\n",
    "                                                                           'North South Line (NSL)/Circle Line (CCL)',\n",
    "                                                                           'Singapore',\n",
    "                                                                           'SBS']:    \n",
    "                    ls = []\n",
    "                    for member in r['members']:\n",
    "                        if member['type'] == 'node' and member['role'] != 'stop_inactive':\n",
    "                            ls.append(member['ref'])\n",
    "                    ls2.append(ls)\n",
    "    return ls2\n",
    "\n",
    "#get the operating routes only\n",
    "bus_routes = get_routes(relations, 'bus')\n",
    "train_routes = get_routes(relations, 'subway')\n",
    "#rail_routes = get_routes(relations, 'railway')\n",
    "monorail_routes = get_routes(relations, 'monorail')"
   ]
  },
  {
   "cell_type": "code",
   "execution_count": 431,
   "id": "62ffeed6",
   "metadata": {},
   "outputs": [
    {
     "name": "stdout",
     "output_type": "stream",
     "text": [
      "5056\n",
      "196\n",
      "56\n"
     ]
    }
   ],
   "source": [
    "bus_stops = set(list(itertools.chain.from_iterable(bus_routes)))\n",
    "train_stops = set(list(itertools.chain.from_iterable(train_routes)))\n",
    "monorail_stops = set(list(itertools.chain.from_iterable(monorail_routes)))\n",
    "\n",
    "#in operation\n",
    "print(len(bus_stops)) #5056 bus stops ~ 5049 in July 2021\n",
    "print(len(train_stops)) #196 train stations, 126 left\n",
    "print(len(monorail_stops)) #56 monorail stations, 15 repeated, so 41 left"
   ]
  },
  {
   "cell_type": "code",
   "execution_count": 507,
   "id": "ba336a90",
   "metadata": {},
   "outputs": [],
   "source": [
    "def get_nearest_nodes(coords):\n",
    "    \"\"\"\n",
    "    returns a node reference number\n",
    "    next time can consider building a K-D tree\n",
    "    for now just brute force aka nearest neighbour search\n",
    "    \"\"\"\n",
    "    lat, lon = coords\n",
    "    subset = nodes.copy()\n",
    "    for i in range(40):\n",
    "        if len(subset) < 4:\n",
    "            break\n",
    "        subset = subset[(abs(subset.lat - lat) < 2**(-i)) & (abs(subset.lon - lon < 2**(-i)))]\n",
    "        \n",
    "    node = subset.reset_index()['id']\n",
    "    return node"
   ]
  },
  {
   "cell_type": "code",
   "execution_count": 509,
   "id": "04f45ce6",
   "metadata": {},
   "outputs": [
    {
     "data": {
      "text/html": [
       "<div>\n",
       "<style scoped>\n",
       "    .dataframe tbody tr th:only-of-type {\n",
       "        vertical-align: middle;\n",
       "    }\n",
       "\n",
       "    .dataframe tbody tr th {\n",
       "        vertical-align: top;\n",
       "    }\n",
       "\n",
       "    .dataframe thead th {\n",
       "        text-align: right;\n",
       "    }\n",
       "</style>\n",
       "<table border=\"1\" class=\"dataframe\">\n",
       "  <thead>\n",
       "    <tr style=\"text-align: right;\">\n",
       "      <th></th>\n",
       "      <th>ref</th>\n",
       "      <th>role</th>\n",
       "      <th>type</th>\n",
       "      <th>memberOf</th>\n",
       "    </tr>\n",
       "  </thead>\n",
       "  <tbody>\n",
       "    <tr>\n",
       "      <th>0</th>\n",
       "      <td>547132201</td>\n",
       "      <td>route</td>\n",
       "      <td>way</td>\n",
       "      <td>272117</td>\n",
       "    </tr>\n",
       "    <tr>\n",
       "      <th>1</th>\n",
       "      <td>160608026</td>\n",
       "      <td>route</td>\n",
       "      <td>way</td>\n",
       "      <td>272117</td>\n",
       "    </tr>\n",
       "    <tr>\n",
       "      <th>2</th>\n",
       "      <td>160608025</td>\n",
       "      <td>route</td>\n",
       "      <td>way</td>\n",
       "      <td>272117</td>\n",
       "    </tr>\n",
       "    <tr>\n",
       "      <th>3</th>\n",
       "      <td>41425649</td>\n",
       "      <td>route</td>\n",
       "      <td>way</td>\n",
       "      <td>272117</td>\n",
       "    </tr>\n",
       "    <tr>\n",
       "      <th>4</th>\n",
       "      <td>41425653</td>\n",
       "      <td>route</td>\n",
       "      <td>way</td>\n",
       "      <td>272117</td>\n",
       "    </tr>\n",
       "    <tr>\n",
       "      <th>...</th>\n",
       "      <td>...</td>\n",
       "      <td>...</td>\n",
       "      <td>...</td>\n",
       "      <td>...</td>\n",
       "    </tr>\n",
       "    <tr>\n",
       "      <th>580564</th>\n",
       "      <td>4593504144</td>\n",
       "      <td>via</td>\n",
       "      <td>node</td>\n",
       "      <td>14448511</td>\n",
       "    </tr>\n",
       "    <tr>\n",
       "      <th>580565</th>\n",
       "      <td>121881092</td>\n",
       "      <td>to</td>\n",
       "      <td>way</td>\n",
       "      <td>14448511</td>\n",
       "    </tr>\n",
       "    <tr>\n",
       "      <th>580566</th>\n",
       "      <td>1085537554</td>\n",
       "      <td>from</td>\n",
       "      <td>way</td>\n",
       "      <td>14448512</td>\n",
       "    </tr>\n",
       "    <tr>\n",
       "      <th>580567</th>\n",
       "      <td>4593504144</td>\n",
       "      <td>via</td>\n",
       "      <td>node</td>\n",
       "      <td>14448512</td>\n",
       "    </tr>\n",
       "    <tr>\n",
       "      <th>580568</th>\n",
       "      <td>1085537554</td>\n",
       "      <td>to</td>\n",
       "      <td>way</td>\n",
       "      <td>14448512</td>\n",
       "    </tr>\n",
       "  </tbody>\n",
       "</table>\n",
       "<p>580393 rows × 4 columns</p>\n",
       "</div>"
      ],
      "text/plain": [
       "               ref   role  type  memberOf\n",
       "0        547132201  route   way    272117\n",
       "1        160608026  route   way    272117\n",
       "2        160608025  route   way    272117\n",
       "3         41425649  route   way    272117\n",
       "4         41425653  route   way    272117\n",
       "...            ...    ...   ...       ...\n",
       "580564  4593504144    via  node  14448511\n",
       "580565   121881092     to   way  14448511\n",
       "580566  1085537554   from   way  14448512\n",
       "580567  4593504144    via  node  14448512\n",
       "580568  1085537554     to   way  14448512\n",
       "\n",
       "[580393 rows x 4 columns]"
      ]
     },
     "execution_count": 509,
     "metadata": {},
     "output_type": "execute_result"
    }
   ],
   "source": [
    "relation_members"
   ]
  },
  {
   "cell_type": "code",
   "execution_count": 508,
   "id": "7105242a",
   "metadata": {},
   "outputs": [
    {
     "data": {
      "text/plain": [
       "0    4500179904\n",
       "Name: id, dtype: object"
      ]
     },
     "execution_count": 508,
     "metadata": {},
     "output_type": "execute_result"
    }
   ],
   "source": [
    "get_nearest_nodes([1.290270, 103.851959])"
   ]
  },
  {
   "cell_type": "code",
   "execution_count": null,
   "id": "3e4659ad",
   "metadata": {},
   "outputs": [],
   "source": [
    "def get_path(start, end, via):\n",
    "    #find nearest nodes to the start and end\n",
    "    #this is done by walking\n",
    "    start_nearest = get_nearest_node(start)\n",
    "    end_nearest = get_nearest_node(end)\n",
    "    via_nearest = get_nearest_node(via)\n",
    "    \n",
    "    #perform path search along the relations\n",
    "    nodes = list(start_nearest)\n",
    "    \n",
    "    #find possible paths\n",
    "    possible_paths = relation_members.memberOf[relation_members.ref.isin(nodes)]\n",
    "    \n",
    "    #do a breadth first search\n",
    "    #create a graph of all possible paths\n",
    "    \n",
    "    \"\"\"\n",
    "    hierarchy of transport (speed)\n",
    "    1 - walk/cycle - on paths\n",
    "    2 - bus - on specific roads\n",
    "    3 - mrt - on mrt\n",
    "    4 - drive - on roads (not advised)\n",
    "    \n",
    "    pseudocode:\n",
    "    generate network graphs of the above 4 paths\n",
    "    perform a search:\n",
    "    go to a higher hierarchy wherever possible to complete large parts of the journey(greedy)\n",
    "    lower the hierarchy for last mile journeys\n",
    "    \"\"\"\n",
    "    return\n",
    "    "
   ]
  },
  {
   "cell_type": "code",
   "execution_count": null,
   "id": "6aa9ef5c",
   "metadata": {},
   "outputs": [],
   "source": [
    "\"\"\"\n",
    "Data Structures\n",
    "\n",
    "Node:\n",
    "(Bus Stop, WayPoints is a Node)\n",
    "\n",
    "Edge: is node A connected to node B?\n",
    "start, end, distance\n",
    "(Ways)\n",
    "\n",
    "Path:\n",
    "(Walking Path, Road inherits from Path)\n",
    "A series of nodes and edges\n",
    "\n",
    "Route: a set Path and direction, with a schedule\n",
    "(Bus Route, Itinerary inherits from Route)\n",
    "\n",
    "Graph:\n",
    "a collection of nodes, edges, set paths and routes \n",
    "(MRT system, bus system is a network)\n",
    "Functions:\n",
    "- search for a path with Contraction Hierarchies\n",
    "\n",
    "contraction hierarchy\n",
    "\"\"\""
   ]
  },
  {
   "cell_type": "code",
   "execution_count": null,
   "id": "f07baad3",
   "metadata": {},
   "outputs": [],
   "source": [
    "class Node:\n",
    "    \"\"\"\n",
    "    A point representing a landmark\n",
    "    \"\"\"\n",
    "    def __init__(self, id_, lat, lon):\n",
    "        self.id = id_\n",
    "        self.lat = lat\n",
    "        self.lon = lon\n",
    "        \n",
    "class Edge:\n",
    "    \"\"\"\n",
    "    Adjacent connected nodes\n",
    "    \"\"\"\n",
    "    def __init__(self, start, end):\n",
    "        \"\"\"\n",
    "        start, end: Node objects\n",
    "        for bidirectional, create 2 edges\n",
    "        \n",
    "        \"\"\"\n",
    "        self.start = start\n",
    "        self.next = end\n",
    "        self.distance = distance_function(start, end)\n",
    "        self.name = name\n",
    "        \n",
    "class Path:\n",
    "    \"\"\"\n",
    "    Consecutive edges\n",
    "    \"\"\"\n",
    "    def __init__(self, edges, name):\n",
    "        self.edges = edges\n",
    "        self.name = name\n",
    "        \n",
    "    def isIntersection(self, other):\n",
    "        pass\n",
    "    \n",
    "class Route(Path):\n",
    "    def __init__(self):\n",
    "        super(Path, self).__init__(edges, name)\n",
    "        \n",
    "class Graph:\n",
    "    def __init__(self)"
   ]
  },
  {
   "cell_type": "code",
   "execution_count": null,
   "id": "3339bf77",
   "metadata": {},
   "outputs": [],
   "source": [
    "def construct_network(data):\n",
    "    #data can be road, mrt or pedestrian paths\n",
    "    #returns a Graph object\n",
    "    #edges\n",
    "    g = Graph()\n",
    "    \n",
    "    return g\n",
    "\n",
    "\n",
    "    "
   ]
  }
 ],
 "metadata": {
  "kernelspec": {
   "display_name": "Python 3",
   "language": "python",
   "name": "python3"
  },
  "language_info": {
   "codemirror_mode": {
    "name": "ipython",
    "version": 3
   },
   "file_extension": ".py",
   "mimetype": "text/x-python",
   "name": "python",
   "nbconvert_exporter": "python",
   "pygments_lexer": "ipython3",
   "version": "3.8.5"
  }
 },
 "nbformat": 4,
 "nbformat_minor": 5
}
